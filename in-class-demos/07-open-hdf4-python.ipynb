{
 "cells": [
  {
   "cell_type": "markdown",
   "metadata": {},
   "source": [
    "# Week 7 - MODIS H4  Data in Python \n",
    "\n",
    "This notebook reviews how to open a process MODIS data stored in  \n",
    "HDF4 format using Python .\n"
   ]
  },
  {
   "cell_type": "code",
   "execution_count": null,
   "metadata": {},
   "outputs": [],
   "source": [
    "import os\n",
    "import warnings\n",
    "\n",
    "# import numpy as np\n",
    "import numpy.ma as ma\n",
    "import matplotlib.pyplot as plt\n",
    "import rioxarray as rxr\n",
    "from rasterio.plot import plotting_extent\n",
    "from shapely.geometry import mapping, box\n",
    "import geopandas as gpd\n",
    "import earthpy as et\n",
    "import earthpy.plot as ep\n",
    "\n",
    "warnings.simplefilter('ignore')\n",
    "\n",
    "# Get the data\n",
    "et.data.get_data('cold-springs-modis-h4')\n",
    "# This download is for the fire boundary\n",
    "et.data.get_data('cold-springs-fire')\n",
    "os.chdir(os.path.join(et.io.HOME,\n",
    "                      'earth-analytics',\n",
    "                      'data'))\n",
    "\n",
    "# This will make rioxarray run faster\n",
    "rioxarray_option = rxr.set_options(export_grid_mapping=False)"
   ]
  },
  {
   "cell_type": "markdown",
   "metadata": {},
   "source": [
    "## Hierarchical Data Formats - HDF4 - EOS in Python\n",
    "\n",
    "You can use gdal or rasterio (which wraps around gdal) to open hdf4 data. \n",
    "In this lesson you will use rasterio. Similar to opening **.tif** files using rasterio, \n",
    "you will use a context manager to open hdf4 files. However because the data are \n",
    "nested, you will see that loops will become important to open and explore the \n",
    "reflectance data stored within the h4 file. \n",
    "\n",
    "To begin, create a path to your hdf file."
   ]
  },
  {
   "cell_type": "code",
   "execution_count": null,
   "metadata": {},
   "outputs": [],
   "source": [
    "# Create a path to the pre-fire MODIS h4 data\n",
    "modis_pre_path = os.path.join(\"cold-springs-modis-h5\",\n",
    "                              \"07_july_2016\",\n",
    "                              \"MOD09GA.A2016189.h09v05.006.2016191073856.hdf\")\n"
   ]
  },
  {
   "cell_type": "markdown",
   "metadata": {},
   "source": [
    "## Open HDF Files Using Open Source Python - rioxarray\n",
    "\n",
    "HDF files are hierarchical and self describing (the metadata is contained \n",
    "within the data). Because the data are hierarchical, you will have to loop\n",
    "through the main dataset and the subdatasets nested within the main dataset \n",
    "to access the reflectance data (the bands) and the qa layers. \n",
    "\n",
    "Below  you  explore  and  then open the h4 file. Notice that the data have \n",
    "some metatadata associated with it. "
   ]
  },
  {
   "cell_type": "code",
   "execution_count": null,
   "metadata": {},
   "outputs": [],
   "source": [
    "modis_pre_path"
   ]
  },
  {
   "cell_type": "markdown",
   "metadata": {},
   "source": [
    "The command below runs `gdalinfo` which allows you to view the metadata.\n",
    "Calling a command using  `!` in  notebooks runs a bash command!\n",
    "\n",
    "NOTE - this will ONLY work if `gdal` is installed and  \n",
    "recognized properly on your computer."
   ]
  },
  {
   "cell_type": "code",
   "execution_count": null,
   "metadata": {},
   "outputs": [],
   "source": [
    "# View file metadata using bash\n",
    "!gdalinfo cold-springs-modis-h5/07_july_2016/MOD09GA.A2016189.h09v05.006.2016191073856.hdf"
   ]
  },
  {
   "cell_type": "code",
   "execution_count": null,
   "metadata": {},
   "outputs": [],
   "source": [
    "# This returns a list of two objects\n",
    "modis = rxr.open_rasterio(modis_pre_path,\n",
    "                          masked=True)\n",
    "\n",
    "\n",
    "modis"
   ]
  },
  {
   "cell_type": "markdown",
   "metadata": {},
   "source": [
    "By adding two output variables, open_rasterio will save\n",
    "the reflectance / band data in a separate object from\n",
    "the qa (quality assurance) data."
   ]
  },
  {
   "cell_type": "code",
   "execution_count": null,
   "metadata": {},
   "outputs": [],
   "source": [
    "# By adding two output variables,\n",
    "modis_qa, modis_data = rxr.open_rasterio(modis_pre_path,\n",
    "                                         masked=True)"
   ]
  },
  {
   "cell_type": "markdown",
   "metadata": {},
   "source": [
    "The fist object returned contains all of the qa (quality assurance) \n",
    "and metadata layers.\n"
   ]
  },
  {
   "cell_type": "code",
   "execution_count": null,
   "metadata": {},
   "outputs": [],
   "source": [
    "# The first object is a qa object\n",
    "modis_qa"
   ]
  },
  {
   "cell_type": "code",
   "execution_count": null,
   "metadata": {},
   "outputs": [],
   "source": [
    "# The second contains your spectral data - ie the \"bands\"\n",
    "modis_data"
   ]
  },
  {
   "cell_type": "markdown",
   "metadata": {},
   "source": [
    "##  Use Variables and Groups to Open Subsets of Your Data\n",
    "\n",
    "To access the spatial information stored within your H4 file, you will need \n",
    "to loop through the subdatasets. Below you open a connection to the main h4 file, \n",
    "then you loop through each subdataset in the file. The files with this pattern \n",
    "in the name:\n",
    "\n",
    "`sur_refl_b01_1`  \n",
    "\n",
    "are the bands which contain surface reflectance data. \n",
    "\n",
    "* **sur_refl_b01_1:** MODIS Band One\n",
    "* **sur_refl_b02_1:** MODIS Band Two\n",
    "\n",
    "Below you loop through and print the name of each subdataset in the file.\n",
    "Notice that there are some other layers in the file as well including the \n",
    "`state_1km` layer which contains the QA (cloud and quality assurance) information."
   ]
  },
  {
   "cell_type": "markdown",
   "metadata": {},
   "source": [
    "### Use  the  Group  Parameter  to Grab One Of the Sub Groups\n",
    "\n",
    "You can use groups to  grab an entire subgroup rather than just \n",
    "specific layers or variables.\n",
    "Notice below you get an array with ALL of the reflectance bands."
   ]
  },
  {
   "cell_type": "code",
   "execution_count": null,
   "metadata": {},
   "outputs": [],
   "source": [
    "# Notice that here, you get a single xarray object with just the bands that\n",
    "#  you want to work with\n",
    "rxr.open_rasterio(modis_pre_path,\n",
    "                  masked=True,\n",
    "                  group=\"MODIS_Grid_500m_2D\").squeeze()"
   ]
  },
  {
   "cell_type": "markdown",
   "metadata": {},
   "source": [
    "### Select By  Variables"
   ]
  },
  {
   "cell_type": "code",
   "execution_count": null,
   "metadata": {},
   "outputs": [],
   "source": [
    "# Open just the bands that you want to process\n",
    "desired_bands = [\"sur_refl_b01_1\",\n",
    "                 \"sur_refl_b02_1\",\n",
    "                 \"sur_refl_b03_1\",\n",
    "                 \"sur_refl_b04_1\",\n",
    "                 \"sur_refl_b07_1\"]\n",
    "# Notice that here, you get a single xarray object with just the bands that\n",
    "# you want to work with\n",
    "modis_bands = rxr.open_rasterio(modis_pre_path,\n",
    "                                masked=True,\n",
    "                                variable=desired_bands).squeeze()\n",
    "modis_bands"
   ]
  },
  {
   "cell_type": "markdown",
   "metadata": {},
   "source": [
    "##  Clip The Data\n",
    "\n",
    "There are several different ways to clip your data. While for this assignment,\n",
    "I suggest  that  you  use the same approach used in `open_clean_bands()` \n",
    "shown last week for class. If you are interested below there  is more  \n",
    "information about a few different approaches."
   ]
  },
  {
   "cell_type": "code",
   "execution_count": null,
   "metadata": {},
   "outputs": [],
   "source": [
    "# Open the clip extent\n",
    "fire_boundary_path = os.path.join(\"cold-springs-fire\",\n",
    "                                  \"vector_layers\",\n",
    "                                  \"fire-boundary-geomac\",\n",
    "                                  \"co_cold_springs_20160711_2200_dd83.shp\")\n",
    "fire_boundary = gpd.read_file(fire_boundary_path)"
   ]
  },
  {
   "cell_type": "markdown",
   "metadata": {},
   "source": [
    "Note that the data are in different CRS'"
   ]
  },
  {
   "cell_type": "code",
   "execution_count": null,
   "metadata": {},
   "outputs": [],
   "source": [
    "print(\"The fire boundary crs is\", fire_boundary.crs)\n",
    "print(\"The MODIS crs is\", modis_bands.rio.crs)"
   ]
  },
  {
   "cell_type": "code",
   "execution_count": null,
   "metadata": {},
   "outputs": [],
   "source": [
    "# %%timeit  #  Uncomment this IF you want to do a speed test\n",
    "modis_bands_not_clipped = rxr.open_rasterio(modis_pre_path,\n",
    "                                            masked=True,\n",
    "                                            variable=desired_bands)\n",
    "\n",
    "fire_reproj = fire_boundary.to_crs(modis_bands.rio.crs).total_bounds\n",
    "\n",
    "modis_clip = modis_bands.rio.clip_box(*fire_reproj).squeeze()\n",
    "modis_clip"
   ]
  },
  {
   "cell_type": "markdown",
   "metadata": {},
   "source": [
    "####  Speed Tests For Clipping Data\n",
    "\n",
    "For those of you that want to see we tested two approaches  here and  \n",
    "did find that repojecting using the `crs=` parameter is much slower  \n",
    "and more memory intensive than the approach above.\n",
    "\n",
    "For your homework either approach is ok!"
   ]
  },
  {
   "cell_type": "code",
   "execution_count": null,
   "metadata": {},
   "outputs": [],
   "source": [
    "# %%timeit\n",
    "# Clip and reproject the fire boundary at the same time\n",
    "# this  uses more ram and is slower\n",
    "crop_bound_box = [box(*fire_boundary.total_bounds)]\n",
    "\n",
    "modis_clip_1 = rxr.open_rasterio(modis_pre_path,\n",
    "                                 masked=True,\n",
    "                                 variable=desired_bands).rio.clip(crop_bound_box,\n",
    "                                                                  crs=fire_boundary.crs,\n",
    "                                                                  from_disk=True)"
   ]
  },
  {
   "cell_type": "code",
   "execution_count": null,
   "metadata": {},
   "outputs": [],
   "source": [
    "modis_clip"
   ]
  },
  {
   "cell_type": "code",
   "execution_count": null,
   "metadata": {},
   "outputs": [],
   "source": [
    "# Flatten the data (here you lose the band names)\n",
    "modis_clip.to_array(dim=\"band\")"
   ]
  },
  {
   "cell_type": "markdown",
   "metadata": {},
   "source": [
    "##  Select Bands to Turn Into Array\n",
    "\n",
    "For  RGB or CIR  plotting,  you may want to select only the bands\n",
    "needed for plotting"
   ]
  },
  {
   "cell_type": "code",
   "execution_count": null,
   "metadata": {},
   "outputs": [],
   "source": [
    "# Select bands 1 and 2 and turn into array\n",
    "rgb_bands = ['sur_refl_b01_1',\n",
    "             'sur_refl_b03_1',\n",
    "             'sur_refl_b04_1']\n",
    "modis_rgb_xr = modis_clip[rgb_bands].to_array()\n",
    "modis_rgb_xr"
   ]
  },
  {
   "cell_type": "markdown",
   "metadata": {},
   "source": [
    "### Plot All MODIS Bands with EarthPy\n",
    "\n",
    "You are now ready to plot your data using earthpy. Notice below that the \n",
    "images look washed out and there are large negative values in the data. \n",
    "\n",
    "This might be a good time to consider cleaning up your data by addressing \n",
    "`nodata` values."
   ]
  },
  {
   "cell_type": "code",
   "execution_count": null,
   "metadata": {},
   "outputs": [],
   "source": [
    "ep.plot_bands(modis_rgb_xr.values,\n",
    "              scale=False,\n",
    "              figsize=(10, 5),\n",
    "              title=rgb_bands)\n",
    "plt.show()"
   ]
  },
  {
   "cell_type": "markdown",
   "metadata": {},
   "source": [
    "### RGB Image of MODIS Data Using EarthPy\n",
    "\n",
    "Once you have your data cleaned up, you can plot an RGB image of your data \n",
    "to ensure that it looks correct!\n",
    "\n",
    "[This lesson will help you remember what bands to use.](https://www.earthdatascience.org/courses/use-data-open-source-python/multispectral-remote-sensing/intro-multispectral-data/)"
   ]
  },
  {
   "cell_type": "code",
   "execution_count": null,
   "metadata": {},
   "outputs": [],
   "source": [
    "def clean_array_plot(xr_obj):\n",
    "    # This function takes a single xarray object as an input and produces a\n",
    "    # cleaned numpy array output for plotting\n",
    "    # BEGIN SOLUTION\n",
    "    \"\"\"\n",
    "    Take an  xarray object and replace null  values with a mask for plotting\n",
    "\n",
    "    Parameters\n",
    "    ----------\n",
    "    xr_obj : xarray object\n",
    "\n",
    "    Returns\n",
    "    -------\n",
    "    A masked numpy array \n",
    "\n",
    "    \"\"\"\n",
    "    # END SOLUTION\n",
    "\n",
    "    return ma.masked_array(xr_obj.values,  xr_obj.isnull())"
   ]
  },
  {
   "cell_type": "code",
   "execution_count": null,
   "metadata": {},
   "outputs": [],
   "source": [
    "modis_rgb_clean = clean_array_plot(modis_rgb_xr)\n",
    "\n",
    "# Plot MODIS RGB image -Note that this looks weird only because\n",
    "# the  data  are clipped to such  a \"small\" extent\n",
    "ep.plot_rgb(modis_rgb_clean,\n",
    "            rgb=[0, 1, 2],\n",
    "            title='RGB Image of MODIS Data',\n",
    "            figsize=(7, 7))\n",
    "\n",
    "plt.show()"
   ]
  },
  {
   "cell_type": "code",
   "execution_count": null,
   "metadata": {},
   "outputs": [],
   "source": [
    "modis_rgb_unclipped = modis_bands_not_clipped[rgb_bands].to_array().squeeze()\n",
    "modis_rgb_unclipped"
   ]
  },
  {
   "cell_type": "code",
   "execution_count": null,
   "metadata": {},
   "outputs": [],
   "source": [
    "# Plot unclipped data - RGB (just a demo)\n",
    "modis_rgb_clean_not_clipped = clean_array_plot(modis_rgb_unclipped)\n",
    "\n",
    "# Plot MODIS RGB image -Note that this looks weird only because\n",
    "# the data are clipped to such a \"small\" extent\n",
    "ep.plot_rgb(modis_rgb_clean_not_clipped,\n",
    "            rgb=[0, 1, 2],\n",
    "            title='RGB Image of MODIS Data',\n",
    "            figsize=(7, 7))\n",
    "\n",
    "plt.show()"
   ]
  },
  {
   "cell_type": "markdown",
   "metadata": {},
   "source": [
    "##  Metadata for MODIS\n",
    "\n",
    "If you look at the <a href=\"{{ site.url }}/courses/earth-analytics-python/multispectral-remote-sensing-modis/modis-remote-sensing-data-in-python/\"> table in the MODIS documentation or that is on the earthdatascience.org intermediate textbook,</a> you will see that the\n",
    "range of value values for MODIS spans from **-100 to 16000**. \n",
    "\n",
    "There is also a fill or no data value **-28672** to consider.   \n",
    "\n",
    "NOTE:"
   ]
  },
  {
   "cell_type": "code",
   "execution_count": null,
   "metadata": {},
   "outputs": [],
   "source": [
    "# View entire metadata object for a MODIS band\n",
    "modis_clip.rio.crs"
   ]
  },
  {
   "cell_type": "code",
   "execution_count": null,
   "metadata": {},
   "outputs": [],
   "source": [
    "#  View variables in object\n",
    "modis_clip.rio.vars"
   ]
  },
  {
   "cell_type": "code",
   "execution_count": null,
   "metadata": {},
   "outputs": [],
   "source": [
    "# View data resolution\n",
    "modis_clip.rio.resolution()"
   ]
  },
  {
   "cell_type": "markdown",
   "metadata": {},
   "source": [
    "##  Function  To  Open  and Clean  MODIS Data\n",
    "Above we walked through the specific workflow for using MODIS data.\n",
    "You can however use the same function that you used last week \n",
    "to process Landsat and NAIP data for MODIS.\n",
    "\n",
    "The difference is now you  an  add the v ariable  parameter\n",
    "to include the list of bands that you wish to grab from the\n",
    "data."
   ]
  },
  {
   "cell_type": "code",
   "execution_count": null,
   "metadata": {},
   "outputs": [],
   "source": [
    "# Function in your homework assignment\n",
    "def open_clean_bands(band_path,\n",
    "                     crop_bound,\n",
    "                     valid_range=None,\n",
    "                     variable=None):\n",
    "    \"\"\"Open and clean a single landsat band.\n",
    "\n",
    "    Parameters\n",
    "    -----------\n",
    "    band_path : string \n",
    "        A path to the array to be opened.\n",
    "    crop_bound : geopandas GeoDataFrame\n",
    "        A geopandas dataframe to be used to crop the raster data using rioxarray clip().\n",
    "    valid_range:tuple (optional)\n",
    "        A tuple of min and max range of values for the data. Default = None.\n",
    "    variable : List\n",
    "        A list of variables to be opened from the raster.\n",
    "\n",
    "    Returns\n",
    "    -----------\n",
    "    band : xarray DataArray\n",
    "        Cropped xarray DataArray\n",
    "\n",
    "    \"\"\"\n",
    "\n",
    "    crop_bound_box = [box(*crop_bound.bounds.loc[0])]\n",
    "\n",
    "    # I've added another check to this function\n",
    "    import rasterio as rio\n",
    "\n",
    "    with rio.open(band_path) as src:\n",
    "        driver = src.driver\n",
    "\n",
    "    if driver == \"HDF4\" and variable is None:\n",
    "        raise ValueError(\"OOPS I've encountered an HDF file  \"\n",
    "                         \"which may have subgroups, please be sure  \"\n",
    "                         \"to specify the variable=parameter so \"\n",
    "                         \"I can clip the data properly.\")\n",
    "\n",
    "    try:\n",
    "        band = rxr.open_rasterio(band_path,\n",
    "                                 masked=True,\n",
    "                                 variable=variable).rio.clip(crop_bound_box,\n",
    "                                                             crs=crop_bound.crs,\n",
    "                                                             all_touched=True,\n",
    "                                                             from_disk=True).squeeze()\n",
    "    except:\n",
    "        raise ValueError(\n",
    "            \"Oops - I couldn't clip your data. This may be due to a crs error.\")\n",
    "\n",
    "    # Only mask the data to the valid range if a valid range tuple is provided\n",
    "    if valid_range is not None:\n",
    "        mask = ((band < valid_range[0]) | (band > valid_range[1]))\n",
    "        band = band.where(~xr.where(mask, True, False))\n",
    "\n",
    "    return band"
   ]
  },
  {
   "cell_type": "markdown",
   "metadata": {},
   "source": [
    "Above i've modified the function that we gave you to  \n",
    "check to see if the data are in HDF4 format  - it  \n",
    "returns an error if you don't specify the  variable  objects to\n",
    "extract. "
   ]
  },
  {
   "cell_type": "code",
   "execution_count": null,
   "metadata": {},
   "outputs": [],
   "source": [
    "# # If you dont specify variables, this function will fail to clip the data\n",
    "# Uncomment this  cell to run the code (which should fail)\n",
    "# open_clean_bands(modis_pre_path,\n",
    "#                  crop_bound=fire_boundary)"
   ]
  },
  {
   "cell_type": "markdown",
   "metadata": {},
   "source": [
    "Below, we use the bands object to subset the data. "
   ]
  },
  {
   "cell_type": "code",
   "execution_count": null,
   "metadata": {},
   "outputs": [],
   "source": [
    "# Remember this object created above\n",
    "rgb_bands"
   ]
  },
  {
   "cell_type": "code",
   "execution_count": null,
   "metadata": {},
   "outputs": [],
   "source": [
    "cleaned_MODIS_data = open_clean_bands(modis_pre_path,\n",
    "                                      crop_bound=fire_boundary,\n",
    "                                      variable=desired_bands)"
   ]
  },
  {
   "cell_type": "markdown",
   "metadata": {},
   "source": [
    "Note - it's ok if the plot below looks funky.\n",
    "It represents very few pixels and pre-fire data does\n",
    "not have a lot of variation in the pixels."
   ]
  },
  {
   "cell_type": "code",
   "execution_count": null,
   "metadata": {},
   "outputs": [],
   "source": [
    "# Plot unclipped data - RGB (just a demo)\n",
    "#  This  plot may look funky\n",
    "modis_rgb = cleaned_MODIS_data[rgb_bands].to_array().squeeze()\n",
    "modis_rgb_plot = clean_array_plot(modis_rgb)\n",
    "\n",
    "# Plot MODIS RGB image -Note that this looks weird only because\n",
    "# the data are clipped to such a \"small\" extent\n",
    "ep.plot_rgb(modis_rgb_plot,\n",
    "            rgb=[0, 1, 2],\n",
    "            title='RGB Image of MODIS Data',\n",
    "            figsize=(7, 7))\n",
    "\n",
    "plt.show()"
   ]
  },
  {
   "cell_type": "code",
   "execution_count": null,
   "metadata": {},
   "outputs": [],
   "source": [
    "ep.plot_bands(modis_rgb_plot)\n",
    "plt.show()"
   ]
  }
 ],
 "metadata": {
  "celltoolbar": "Tags",
  "kernelspec": {
   "display_name": "Python 3",
   "language": "python",
   "name": "python3"
  },
  "language_info": {
   "codemirror_mode": {
    "name": "ipython",
    "version": 3
   },
   "file_extension": ".py",
   "mimetype": "text/x-python",
   "name": "python",
   "nbconvert_exporter": "python",
   "pygments_lexer": "ipython3",
   "version": "3.8.6"
  },
  "toc": {
   "base_numbering": 1,
   "nav_menu": {},
   "number_sections": true,
   "sideBar": true,
   "skip_h1_title": false,
   "title_cell": "Table of Contents",
   "title_sidebar": "Contents",
   "toc_cell": false,
   "toc_position": {
    "height": "calc(100% - 180px)",
    "left": "10px",
    "top": "150px",
    "width": "165px"
   },
   "toc_section_display": true,
   "toc_window_display": true
  }
 },
 "nbformat": 4,
 "nbformat_minor": 2
}
